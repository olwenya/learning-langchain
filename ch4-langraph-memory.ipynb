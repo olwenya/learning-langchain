{
 "cells": [
  {
   "cell_type": "markdown",
   "id": "9cd51d2b-37bc-47dd-bf5e-6ab82813bed4",
   "metadata": {},
   "source": [
    "# Ch4: Using LangGraph to add memory"
   ]
  },
  {
   "cell_type": "markdown",
   "id": "b48bcee1-40a6-4270-bcda-5abe0724192c",
   "metadata": {},
   "source": [
    "## step 1: define the state of the graph"
   ]
  },
  {
   "cell_type": "code",
   "execution_count": 1,
   "id": "d3a329ad-6595-40e6-b827-6d6ab0464007",
   "metadata": {},
   "outputs": [],
   "source": [
    "from typing import Annotated, TypedDict\n",
    "\n",
    "from langgraph.graph import StateGraph, START, END\n",
    "from langgraph.graph.message import add_messages\n",
    "\n",
    "class State(TypedDict):\n",
    "    messages: Annotated[list, add_messages]\n",
    "builder = StateGraph(State)"
   ]
  },
  {
   "cell_type": "markdown",
   "id": "de0c0fb0-140c-4ae9-9879-9c8c4def7800",
   "metadata": {},
   "source": [
    "## Step 2: add node(s)"
   ]
  },
  {
   "cell_type": "code",
   "execution_count": 2,
   "id": "9aed9807-1bd1-4648-9239-235ebbff9399",
   "metadata": {},
   "outputs": [
    {
     "data": {
      "text/plain": [
       "<langgraph.graph.state.StateGraph at 0x7d278f36ae40>"
      ]
     },
     "execution_count": 2,
     "metadata": {},
     "output_type": "execute_result"
    }
   ],
   "source": [
    "from langchain_openai import ChatOpenAI\n",
    "\n",
    "model = ChatOpenAI()\n",
    "\n",
    "def chatbot(state: State):\n",
    "    answer = model.invoke(state[\"messages\"])\n",
    "    return {\"messages\": [answer]}\n",
    "\n",
    "builder.add_node(\"chatbot\", chatbot)"
   ]
  },
  {
   "cell_type": "markdown",
   "id": "075a0c4f-3d4f-484d-81df-03d2784c0639",
   "metadata": {},
   "source": [
    "# step 3: add edges\n",
    "Tell the graph where to start, and where to exit\n"
   ]
  },
  {
   "cell_type": "code",
   "execution_count": 3,
   "id": "80a3278e-4503-4801-a36c-8d94fbd7b71a",
   "metadata": {},
   "outputs": [],
   "source": [
    "builder.add_edge(START, 'chatbot')\n",
    "\n",
    "#optional\n",
    "builder.add_edge('chatbot', END)\n",
    "\n",
    "graph = builder.compile()"
   ]
  },
  {
   "cell_type": "markdown",
   "id": "92af5a80-6bb2-4a0f-983f-d8fe345f3edf",
   "metadata": {},
   "source": [
    "# You can draw a visual representation of the graph"
   ]
  },
  {
   "cell_type": "code",
   "execution_count": 6,
   "id": "c29f52c5-2ea8-44b0-81e0-ff9a09c48998",
   "metadata": {},
   "outputs": [
    {
     "data": {
      "image/png": "[encoded data removed]",
      "text/plain": [
       "<IPython.core.display.Image object>"
      ]
     },
     "metadata": {},
     "output_type": "display_data"
    }
   ],
   "source": [
    "from IPython.display import Image, display\n",
    "display(\n",
    "    Image(graph.get_graph().draw_mermaid_png())\n",
    ")"
   ]
  },
  {
   "cell_type": "code",
   "execution_count": 8,
   "id": "fbb91e9b-3063-413b-afb4-f5ce7e6b1657",
   "metadata": {},
   "outputs": [
    {
     "name": "stdout",
     "output_type": "stream",
     "text": [
      "{'chatbot': {'messages': [AIMessage(content='Hello! How can I assist you today?', additional_kwargs={'refusal': None}, response_metadata={'token_usage': {'completion_tokens': 10, 'prompt_tokens': 9, 'total_tokens': 19, 'completion_tokens_details': {'accepted_prediction_tokens': 0, 'audio_tokens': 0, 'reasoning_tokens': 0, 'rejected_prediction_tokens': 0}, 'prompt_tokens_details': {'audio_tokens': 0, 'cached_tokens': 0}}, 'model_name': 'gpt-3.5-turbo-0125', 'system_fingerprint': None, 'id': 'chatcmpl-BTUIcItjBuRsHGeLc07DS2JU5t7Cy', 'finish_reason': 'stop', 'logprobs': None}, id='run--592a5dac-a4b4-45ec-b681-af66cbb88357-0', usage_metadata={'input_tokens': 9, 'output_tokens': 10, 'total_tokens': 19, 'input_token_details': {'audio': 0, 'cache_read': 0}, 'output_token_details': {'audio': 0, 'reasoning': 0}})]}}\n"
     ]
    }
   ],
   "source": [
    "# run it\n",
    "from langchain_core.messages import HumanMessage\n",
    "input = {\"messages\": [HumanMessage('hi!')]}\n",
    "for chunk in graph.stream(input):\n",
    "    print(chunk)"
   ]
  },
  {
   "cell_type": "markdown",
   "id": "ffdd9749-3b0e-464e-8847-453e171cd89e",
   "metadata": {},
   "source": [
    "## Adding memory to stetegraph\n",
    "there are several adapters from databases to inmemory eg:\n",
    "- sqllite\n",
    "- postgres\n",
    "- redis\n",
    "- mysql"
   ]
  },
  {
   "cell_type": "code",
   "execution_count": 11,
   "id": "bc406e38-c788-413f-93ae-272b8e2fcf37",
   "metadata": {},
   "outputs": [],
   "source": [
    "#use inmemory to store messages\n",
    "from langgraph.checkpoint.memory import MemorySaver\n",
    "graph = builder.compile(checkpointer=MemorySaver())\n"
   ]
  },
  {
   "cell_type": "markdown",
   "id": "ef4a2bcc-5011-48a2-8f4c-dcdb885e087f",
   "metadata": {},
   "source": [
    "### Threads == session\n",
    "use threads (unique identifier for a 'conversation') to manage different chats\n",
    "\n"
   ]
  },
  {
   "cell_type": "code",
   "execution_count": 15,
   "id": "f41149c3-f493-44f8-8dab-e5d2412a5669",
   "metadata": {},
   "outputs": [
    {
     "name": "stdout",
     "output_type": "stream",
     "text": [
      "{'messages': [HumanMessage(content='Hi, my name is Allan', additional_kwargs={}, response_metadata={}, id='d29e1529-3bab-4f6c-a89a-a165c4061af5'), AIMessage(content='Nice to meet you, Allan! How can I assist you today?', additional_kwargs={'refusal': None}, response_metadata={'token_usage': {'completion_tokens': 15, 'prompt_tokens': 13, 'total_tokens': 28, 'completion_tokens_details': {'accepted_prediction_tokens': 0, 'audio_tokens': 0, 'reasoning_tokens': 0, 'rejected_prediction_tokens': 0}, 'prompt_tokens_details': {'audio_tokens': 0, 'cached_tokens': 0}}, 'model_name': 'gpt-3.5-turbo-0125', 'system_fingerprint': None, 'id': 'chatcmpl-BTUi6YG9JKR0uP0STVvgDlRB5hFTd', 'finish_reason': 'stop', 'logprobs': None}, id='run--1683b1b0-80ea-4319-8e05-c9601407b1b2-0', usage_metadata={'input_tokens': 13, 'output_tokens': 15, 'total_tokens': 28, 'input_token_details': {'audio': 0, 'cache_read': 0}, 'output_token_details': {'audio': 0, 'reasoning': 0}})]} {'messages': [HumanMessage(content='Hi, my name is Allan', additional_kwargs={}, response_metadata={}, id='d29e1529-3bab-4f6c-a89a-a165c4061af5'), AIMessage(content='Nice to meet you, Allan! How can I assist you today?', additional_kwargs={'refusal': None}, response_metadata={'token_usage': {'completion_tokens': 15, 'prompt_tokens': 13, 'total_tokens': 28, 'completion_tokens_details': {'accepted_prediction_tokens': 0, 'audio_tokens': 0, 'reasoning_tokens': 0, 'rejected_prediction_tokens': 0}, 'prompt_tokens_details': {'audio_tokens': 0, 'cached_tokens': 0}}, 'model_name': 'gpt-3.5-turbo-0125', 'system_fingerprint': None, 'id': 'chatcmpl-BTUi6YG9JKR0uP0STVvgDlRB5hFTd', 'finish_reason': 'stop', 'logprobs': None}, id='run--1683b1b0-80ea-4319-8e05-c9601407b1b2-0', usage_metadata={'input_tokens': 13, 'output_tokens': 15, 'total_tokens': 28, 'input_token_details': {'audio': 0, 'cache_read': 0}, 'output_token_details': {'audio': 0, 'reasoning': 0}}), HumanMessage(content='what is my name?', additional_kwargs={}, response_metadata={}, id='460cc189-958a-4dd1-a300-adff6c0948e5'), AIMessage(content='Your name is Allan.', additional_kwargs={'refusal': None}, response_metadata={'token_usage': {'completion_tokens': 6, 'prompt_tokens': 40, 'total_tokens': 46, 'completion_tokens_details': {'accepted_prediction_tokens': 0, 'audio_tokens': 0, 'reasoning_tokens': 0, 'rejected_prediction_tokens': 0}, 'prompt_tokens_details': {'audio_tokens': 0, 'cached_tokens': 0}}, 'model_name': 'gpt-3.5-turbo-0125', 'system_fingerprint': None, 'id': 'chatcmpl-BTUi6F47UBjEvyF8gUifBzlIF20RJ', 'finish_reason': 'stop', 'logprobs': None}, id='run--dd913fec-7cb6-45a5-b3d8-d5bb66a550e0-0', usage_metadata={'input_tokens': 40, 'output_tokens': 6, 'total_tokens': 46, 'input_token_details': {'audio': 0, 'cache_read': 0}, 'output_token_details': {'audio': 0, 'reasoning': 0}})]}\n"
     ]
    }
   ],
   "source": [
    "thread1 = {\"configurable\": {\"thread_id\": \"1\"}}\n",
    "result_1 = graph.invoke(\n",
    "    {\"messages\": [HumanMessage(\"Hi, my name is Allan\")]},\n",
    "    thread1\n",
    ")\n",
    "result_2 = graph.invoke(\n",
    "    {\"messages\": HumanMessage(\"what is my name?\")}, thread1\n",
    ")\n",
    "print(result_1, result_2)"
   ]
  },
  {
   "cell_type": "code",
   "execution_count": 18,
   "id": "9c3840de-ec93-4190-9c3f-b849ef76feb8",
   "metadata": {},
   "outputs": [
    {
     "data": {
      "text/plain": [
       "{'configurable': {'thread_id': '1',\n",
       "  'checkpoint_ns': '',\n",
       "  'checkpoint_id': '1f028f57-769d-6ae2-8005-1ff4b9211f13'}}"
      ]
     },
     "execution_count": 18,
     "metadata": {},
     "output_type": "execute_result"
    }
   ],
   "source": [
    "# you can also update state\n",
    "graph.get_state(thread1)\n",
    "graph.update_state(\n",
    "    thread1, \n",
    "    {\"messages\": [HumanMessage('I like LLMs!')]}\n",
    ")"
   ]
  },
  {
   "cell_type": "markdown",
   "id": "8340e4a4-9d53-4b14-ab7e-9ccfb5bd08b0",
   "metadata": {},
   "source": [
    "## Filtering and trimming message\n",
    "Trimming is necessary because most LLMs have a limited context window"
   ]
  },
  {
   "cell_type": "code",
   "execution_count": 24,
   "id": "2226b4f8-39fc-4572-a653-094d4e5eab6c",
   "metadata": {},
   "outputs": [
    {
     "data": {
      "text/plain": [
       "[SystemMessage(content=\"you're a good assistant\", additional_kwargs={}, response_metadata={}),\n",
       " HumanMessage(content='whats 2 + 2', additional_kwargs={}, response_metadata={}),\n",
       " AIMessage(content='4', additional_kwargs={}, response_metadata={}),\n",
       " HumanMessage(content='thanks', additional_kwargs={}, response_metadata={}),\n",
       " AIMessage(content='no problem!', additional_kwargs={}, response_metadata={}),\n",
       " HumanMessage(content='having fun?', additional_kwargs={}, response_metadata={}),\n",
       " AIMessage(content='yes!', additional_kwargs={}, response_metadata={})]"
      ]
     },
     "execution_count": 24,
     "metadata": {},
     "output_type": "execute_result"
    }
   ],
   "source": [
    "# define trimmer\n",
    "from langchain_core.messages import trim_messages, SystemMessage, AIMessage, filter_messages\n",
    "trimmer = trim_messages(\n",
    "    max_tokens=65,\n",
    "    strategy=\"last\",\n",
    "    token_counter=ChatOpenAI(model=\"gpt-4o\"),\n",
    "    include_system=True,\n",
    "    allow_partial=False,\n",
    "    start_on=\"human\",\n",
    ")\n",
    "\n",
    "messages = [\n",
    "    SystemMessage(content=\"you're a good assistant\"),\n",
    "    HumanMessage(content=\"hi! I'm bob\"),\n",
    "    AIMessage(content=\"hi!\"),\n",
    "    HumanMessage(content=\"I like vanilla ice cream\"),\n",
    "    AIMessage(content=\"nice\"),\n",
    "    HumanMessage(content=\"whats 2 + 2\"),\n",
    "    AIMessage(content=\"4\"),\n",
    "    HumanMessage(content=\"thanks\"),\n",
    "    AIMessage(content=\"no problem!\"),\n",
    "    HumanMessage(content=\"having fun?\"),\n",
    "    AIMessage(content=\"yes!\"),\n",
    "]\n",
    "\n",
    "trimmer.invoke(messages)"
   ]
  },
  {
   "cell_type": "code",
   "execution_count": 25,
   "id": "28cd4f7a-875c-4d6e-97c4-d825a28d3609",
   "metadata": {},
   "outputs": [
    {
     "data": {
      "text/plain": [
       "[HumanMessage(content=\"hi! I'm bob\", additional_kwargs={}, response_metadata={}),\n",
       " HumanMessage(content='I like vanilla ice cream', additional_kwargs={}, response_metadata={}),\n",
       " HumanMessage(content='whats 2 + 2', additional_kwargs={}, response_metadata={}),\n",
       " HumanMessage(content='thanks', additional_kwargs={}, response_metadata={}),\n",
       " HumanMessage(content='having fun?', additional_kwargs={}, response_metadata={})]"
      ]
     },
     "execution_count": 25,
     "metadata": {},
     "output_type": "execute_result"
    }
   ],
   "source": [
    "filter_messages(messages, include_types=\"human\")"
   ]
  },
  {
   "cell_type": "code",
   "execution_count": null,
   "id": "ce5dfc1e-2e1e-49b1-87cb-aeea1a2bfc45",
   "metadata": {},
   "outputs": [],
   "source": []
  }
 ],
 "metadata": {
  "kernelspec": {
   "display_name": "learning-langchain",
   "language": "python",
   "name": "learning-langchain"
  },
  "language_info": {
   "codemirror_mode": {
    "name": "ipython",
    "version": 3
   },
   "file_extension": ".py",
   "mimetype": "text/x-python",
   "name": "python",
   "nbconvert_exporter": "python",
   "pygments_lexer": "ipython3",
   "version": "3.13.1"
  }
 },
 "nbformat": 4,
 "nbformat_minor": 5
}
